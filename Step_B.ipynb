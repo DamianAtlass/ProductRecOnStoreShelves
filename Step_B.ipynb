{
 "cells": [
  {
   "metadata": {
    "ExecuteTime": {
     "end_time": "2025-01-20T17:29:53.448294Z",
     "start_time": "2025-01-20T17:29:53.445520Z"
    }
   },
   "cell_type": "code",
   "source": [
    "import numpy as np\n",
    "from matplotlib import pyplot as plt\n",
    "import cv2 as cv\n",
    "import math\n",
    "import os"
   ],
   "id": "68c5a92f5615f5b3",
   "outputs": [],
   "execution_count": 5
  },
  {
   "metadata": {
    "ExecuteTime": {
     "end_time": "2025-01-20T17:29:53.462187Z",
     "start_time": "2025-01-20T17:29:53.458726Z"
    }
   },
   "cell_type": "code",
   "source": [
    "#convinience function\n",
    "path_models = os.path.join(\"product-recognition-on-store-shelves-images\",\"object_detection_project\",\"models\")\n",
    "path_scenes = os.path.join(\"product-recognition-on-store-shelves-images\",\"object_detection_project\",\"scenes\")\n",
    "\n",
    "def get_path_model(index):\n",
    "    return os.path.join(path_models, f\"{index}.jpg\")\n",
    "\n",
    "def get_path_scene(index):\n",
    "    return os.path.join(path_scenes, f\"{index}\")\n",
    "\n",
    "def rotate_tuple(point, angle_degrees):\n",
    "    \"\"\"\n",
    "    Rotates a 2D tuple (point) by a given angle in degrees.\n",
    "\n",
    "    Args:\n",
    "        point: A tuple (x, y).\n",
    "        angle_degrees: Angle to rotate the point, in degrees.\n",
    "\n",
    "    Returns:\n",
    "        A tuple (x', y') representing the rotated point.\n",
    "    \"\"\"\n",
    "    # Convert angle to radians\n",
    "    angle_radians = math.radians(angle_degrees)\n",
    "\n",
    "    # Extract the x and y coordinates\n",
    "    x, y = point\n",
    "\n",
    "    # Apply the rotation matrix\n",
    "    x_rotated = x * math.cos(angle_radians) - y * math.sin(angle_radians)\n",
    "    y_rotated = x * math.sin(angle_radians) + y * math.cos(angle_radians)\n",
    "\n",
    "    return (x_rotated, y_rotated)\n",
    "\n",
    "def multiply_tuple(point, scale):\n",
    "    return tuple(element * scale for element in point)\n",
    "\n",
    "def add_tuple(x, y):\n",
    "    return (x[0] + y[0], x[1] + y[1])"
   ],
   "id": "9ea3c7d8efcff071",
   "outputs": [],
   "execution_count": 6
  },
  {
   "cell_type": "code",
   "id": "initial_id",
   "metadata": {
    "collapsed": true,
    "ExecuteTime": {
     "end_time": "2025-01-20T17:30:36.834908Z",
     "start_time": "2025-01-20T17:29:53.468592Z"
    }
   },
   "source": [
    "def find_image(scene_path, model_paths, draw_on_color=True):\n",
    "    target_resolution = (150, 210)\n",
    "    scene_gray = cv.imread(scene_path,cv.IMREAD_GRAYSCALE)\n",
    "\n",
    "    scene_to_draw_on = cv.imread(scene_path) if draw_on_color else scene_gray\n",
    "\n",
    "    #create array with all models\n",
    "    models = []\n",
    "    for model_gray_path in model_paths:\n",
    "\n",
    "        name = os.path.split(model_gray_path)[-1]\n",
    "        models.append({\n",
    "            \"name\": name,\n",
    "            \"img\": cv.imread(model_gray_path, cv.IMREAD_GRAYSCALE)\n",
    "            })\n",
    "\n",
    "    for model in models:\n",
    "        print(f\"Looking for {model[\"name\"]}...\")\n",
    "\n",
    "        model_gray = model[\"img\"]\n",
    "        #_model_gray = model[\"img\"]\n",
    "        #model_gray = cv.resize(_model_gray, target_resolution, interpolation=cv.INTER_AREA)\n",
    "        MIN_MATCH_COUNT = 30\n",
    "\n",
    "        # Initiate SIFT detector\n",
    "        sift = cv.SIFT_create()\n",
    "\n",
    "        # find the keypoints and descriptors with SIFT\n",
    "        kp1, des1 = sift.detectAndCompute(model_gray,None)\n",
    "        kp2, des2 = sift.detectAndCompute(scene_gray,None)\n",
    "\n",
    "        FLANN_INDEX_KDTREE = 1\n",
    "        index_params = dict(algorithm = FLANN_INDEX_KDTREE, trees = 5)\n",
    "        search_params = dict(checks = 50)\n",
    "        flann = cv.FlannBasedMatcher(index_params, search_params)\n",
    "        matches = flann.knnMatch(des1,des2,k=2)\n",
    "\n",
    "        # store all the good matches as per Lowe's ratio test.\n",
    "        good = []\n",
    "        for m,n in matches:\n",
    "            if m.distance < 0.7 * n.distance:\n",
    "                good.append(m)\n",
    "\n",
    "        scene_to_draw_on = scene_to_draw_on if scene_to_draw_on is not None else scene_gray\n",
    "\n",
    "        result = scene_to_draw_on\n",
    "\n",
    "        if len(good)>MIN_MATCH_COUNT:\n",
    "            print( \"Enough matches are found - {}/{}\".format(len(good), MIN_MATCH_COUNT) )\n",
    "            src_pts = [ kp1[m.queryIdx] for m in good ]\n",
    "            dst_pts = [ kp2[m.trainIdx] for m in good ]\n",
    "\n",
    "            #bary_src = sum(key_pt.pt for key_pt in src_pts)/len(src_pts)\n",
    "            #print(bary_src)\n",
    "\n",
    "            bary_src = (0,0)\n",
    "            for key_pt in src_pts:\n",
    "                bary_src = (bary_src[0] + key_pt.pt[0], bary_src[1] + key_pt.pt[1])\n",
    "            bary_src = (bary_src[0]/len(src_pts), bary_src[1]/len(src_pts))\n",
    "            print(bary_src)\n",
    "\n",
    "            #img_visualization = cv.drawKeypoints(model_gray,src_pts,None,flags=cv.DRAW_MATCHES_FLAGS_DRAW_RICH_KEYPOINTS)\n",
    "            #plt.imshow(img_visualization)\n",
    "            #plt.show()\n",
    "\n",
    "            joint_vec_src = []\n",
    "            for key_pt in src_pts:\n",
    "                vec = (key_pt.pt[0] - bary_src[0], key_pt.pt[1] - bary_src[1])\n",
    "                joint_vec_src.append(vec)\n",
    "\n",
    "            bary_vote_dst = []\n",
    "            for i in range(len(dst_pts)):\n",
    "                rot = dst_pts[i].angle - src_pts[i].angle\n",
    "                scale = dst_pts[i].size / src_pts[i].size\n",
    "                bary = add_tuple(src_pts[i].pt, multiply_tuple(rotate_tuple(joint_vec_src[i], rot), scale))\n",
    "                bary_vote_dst.append(bary)\n",
    "\n",
    "            for point in bary_vote_dst:\n",
    "                # Draw a circle at each coordinate\n",
    "                cv.circle(scene_gray, (int(point[0]), int(point[1])), radius=5, color=(0, 255, 0), thickness=-1)  # Green filled circle\n",
    "\n",
    "            # Show the image\n",
    "            cv.imshow(\"Image with Points\", scene_gray)\n",
    "            cv.waitKey(0)\n",
    "            cv.destroyAllWindows()\n",
    "            \"\"\" USE THIS TO DRAW THE RESULTS FROM POINTS\n",
    "            src_pts = np.float32([ kp1[m.queryIdx].pt for m in good ]).reshape(-1,1,2)\n",
    "            dst_pts = np.float32([ kp2[m.trainIdx].pt for m in good ]).reshape(-1,1,2)\n",
    "            M, mask = cv.findHomography(src_pts, dst_pts, cv.RANSAC,5.0)\n",
    "            matchesMask = mask.ravel().tolist()\n",
    "            h,w = model_gray.shape\n",
    "            pts = np.float32([ [0,0],[0,h-1],[w-1,\n",
    "                                            h-1],[w-1,0] ]).reshape(-1,1,2)\n",
    "\n",
    "            dst = cv.perspectiveTransform(pts,M)\n",
    "\n",
    "            #add square and add text\n",
    "            means = np.mean(dst, axis=0)\n",
    "            x, y = [a for a in means[0]]\n",
    "            x = x * 0.8 #adjust for text\n",
    "\n",
    "            result = cv.polylines(scene_to_draw_on,[np.int32(dst)],True,255,3, cv.LINE_AA)\n",
    "\n",
    "            boldness = 3\n",
    "            size = 3\n",
    "            cv.putText(scene_to_draw_on, model[\"name\"], (int(x),int(y)), cv.FONT_HERSHEY_COMPLEX_SMALL, size, (0, 0, 255, 255), boldness, cv.LINE_AA)\n",
    "            \"\"\"\n",
    "        else:\n",
    "            print( \"Not enough matches are found - {}/{}\".format(len(good), MIN_MATCH_COUNT) )\n",
    "            matchesMask = None\n",
    "\n",
    "    print(\"------------------------------------------\")\n",
    "    print(\"Results:\")\n",
    "    return result\n",
    "\n",
    "\n",
    "#define models to be searched in image\n",
    "models = [get_path_model(a) for a in [0]]#[0, 1, 2, 3, 4, 5, 6, 7, 8, 9, 10, 11, 12, 13, 14, 15, 16, 17, 18, 19, 20, 21, 22, 23, 24, 25, 26]]\n",
    "#[0,1,11,19,24,25,26]]\n",
    "result = find_image(scene_path=get_path_scene(\"e1.png\"),\n",
    "                    model_paths=models,\n",
    "                    draw_on_color=True\n",
    "                    )\n",
    "\n",
    "plt.imshow(cv.cvtColor(result, cv.COLOR_BGR2RGB))\n",
    "plt.show()"
   ],
   "outputs": [
    {
     "name": "stdout",
     "output_type": "stream",
     "text": [
      "Looking for 0.jpg...\n",
      "Enough matches are found - 464/30\n",
      "(581.5304604275473, 726.7179503934137)\n"
     ]
    },
    {
     "ename": "KeyboardInterrupt",
     "evalue": "",
     "output_type": "error",
     "traceback": [
      "\u001B[0;31m---------------------------------------------------------------------------\u001B[0m",
      "\u001B[0;31mKeyboardInterrupt\u001B[0m                         Traceback (most recent call last)",
      "Cell \u001B[0;32mIn[7], line 120\u001B[0m\n\u001B[1;32m    118\u001B[0m models \u001B[38;5;241m=\u001B[39m [get_path_model(a) \u001B[38;5;28;01mfor\u001B[39;00m a \u001B[38;5;129;01min\u001B[39;00m [\u001B[38;5;241m0\u001B[39m]]\u001B[38;5;66;03m#[0, 1, 2, 3, 4, 5, 6, 7, 8, 9, 10, 11, 12, 13, 14, 15, 16, 17, 18, 19, 20, 21, 22, 23, 24, 25, 26]]\u001B[39;00m\n\u001B[1;32m    119\u001B[0m \u001B[38;5;66;03m#[0,1,11,19,24,25,26]]\u001B[39;00m\n\u001B[0;32m--> 120\u001B[0m result \u001B[38;5;241m=\u001B[39m find_image(scene_path\u001B[38;5;241m=\u001B[39mget_path_scene(\u001B[38;5;124m\"\u001B[39m\u001B[38;5;124me1.png\u001B[39m\u001B[38;5;124m\"\u001B[39m),\n\u001B[1;32m    121\u001B[0m                     model_paths\u001B[38;5;241m=\u001B[39mmodels,\n\u001B[1;32m    122\u001B[0m                     draw_on_color\u001B[38;5;241m=\u001B[39m\u001B[38;5;28;01mTrue\u001B[39;00m\n\u001B[1;32m    123\u001B[0m                     )\n\u001B[1;32m    125\u001B[0m plt\u001B[38;5;241m.\u001B[39mimshow(cv\u001B[38;5;241m.\u001B[39mcvtColor(result, cv\u001B[38;5;241m.\u001B[39mCOLOR_BGR2RGB))\n\u001B[1;32m    126\u001B[0m plt\u001B[38;5;241m.\u001B[39mshow()\n",
      "Cell \u001B[0;32mIn[7], line 84\u001B[0m, in \u001B[0;36mfind_image\u001B[0;34m(scene_path, model_paths, draw_on_color)\u001B[0m\n\u001B[1;32m     82\u001B[0m \u001B[38;5;66;03m# Show the image\u001B[39;00m\n\u001B[1;32m     83\u001B[0m cv\u001B[38;5;241m.\u001B[39mimshow(\u001B[38;5;124m\"\u001B[39m\u001B[38;5;124mImage with Points\u001B[39m\u001B[38;5;124m\"\u001B[39m, scene_gray)\n\u001B[0;32m---> 84\u001B[0m cv\u001B[38;5;241m.\u001B[39mwaitKey(\u001B[38;5;241m0\u001B[39m)\n\u001B[1;32m     85\u001B[0m cv\u001B[38;5;241m.\u001B[39mdestroyAllWindows()\n\u001B[1;32m     86\u001B[0m \u001B[38;5;250m\u001B[39m\u001B[38;5;124;03m\"\"\" USE THIS TO DRAW THE RESULTS FROM POINTS\u001B[39;00m\n\u001B[1;32m     87\u001B[0m \u001B[38;5;124;03msrc_pts = np.float32([ kp1[m.queryIdx].pt for m in good ]).reshape(-1,1,2)\u001B[39;00m\n\u001B[1;32m     88\u001B[0m \u001B[38;5;124;03mdst_pts = np.float32([ kp2[m.trainIdx].pt for m in good ]).reshape(-1,1,2)\u001B[39;00m\n\u001B[0;32m   (...)\u001B[0m\n\u001B[1;32m    106\u001B[0m \u001B[38;5;124;03mcv.putText(scene_to_draw_on, model[\"name\"], (int(x),int(y)), cv.FONT_HERSHEY_COMPLEX_SMALL, size, (0, 0, 255, 255), boldness, cv.LINE_AA)\u001B[39;00m\n\u001B[1;32m    107\u001B[0m \u001B[38;5;124;03m\"\"\"\u001B[39;00m\n",
      "\u001B[0;31mKeyboardInterrupt\u001B[0m: "
     ]
    }
   ],
   "execution_count": 7
  },
  {
   "metadata": {
    "ExecuteTime": {
     "end_time": "2025-01-20T17:30:36.841023Z",
     "start_time": "2025-01-20T16:58:16.672462Z"
    }
   },
   "cell_type": "code",
   "source": [
    "import cv2\n",
    "import numpy as np\n",
    "\n",
    "# Create a blank image (optional, if you already have an image, use that)\n",
    "image = np.zeros((500, 500, 3), dtype=np.uint8)  # Black image of size 500x500\n",
    "\n",
    "# List of tuple coordinates\n",
    "coordinates = [(100, 100), (200, 200), (300, 300), (400, 400)]\n",
    "\n",
    "# Iterate through the list and plot each coordinate\n",
    "for point in coordinates:\n",
    "    # Draw a circle at each coordinate\n",
    "    cv2.circle(image, point, radius=5, color=(0, 255, 0), thickness=-1)  # Green filled circle\n",
    "\n",
    "# Show the image\n",
    "cv2.imshow(\"Image with Points\", image)\n",
    "cv2.waitKey(0)\n",
    "cv2.destroyAllWindows()"
   ],
   "id": "2897042ee5e98979",
   "outputs": [
    {
     "name": "stderr",
     "output_type": "stream",
     "text": [
      "2025-01-20 17:58:17.027 python[1351:22732] +[IMKClient subclass]: chose IMKClient_Modern\n",
      "2025-01-20 17:58:17.027 python[1351:22732] +[IMKInputSession subclass]: chose IMKInputSession_Modern\n"
     ]
    }
   ],
   "execution_count": 33
  }
 ],
 "metadata": {
  "kernelspec": {
   "display_name": "Python 3",
   "language": "python",
   "name": "python3"
  },
  "language_info": {
   "codemirror_mode": {
    "name": "ipython",
    "version": 2
   },
   "file_extension": ".py",
   "mimetype": "text/x-python",
   "name": "python",
   "nbconvert_exporter": "python",
   "pygments_lexer": "ipython2",
   "version": "2.7.6"
  }
 },
 "nbformat": 4,
 "nbformat_minor": 5
}
